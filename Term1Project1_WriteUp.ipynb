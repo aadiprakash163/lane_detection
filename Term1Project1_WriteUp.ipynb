{
 "cells": [
  {
   "cell_type": "markdown",
   "metadata": {},
   "source": [
    "# **Finding Lane Lines on the Road** \n",
    "\n",
    "## Writeup \n",
    "\n",
    "\n",
    "---\n",
    "\n",
    "**Finding Lane Lines on the Road**\n",
    "\n",
    "The goals / steps of this project are the following:\n",
    "* Make a pipeline that finds lane lines on the road\n",
    "* Put images extracted from test videos in the pipeline and check its functioning.\n",
    "\n",
    "\n",
    "\n",
    "---\n",
    "\n",
    "### Reflection\n",
    "\n",
    "\n",
    "My pipeline looks like this:   \n",
    "1). Read image.   \n",
    "2). Convert the image to gray scale.   \n",
    "3). Define a kernel size and apply Gaussian smoothing.   \n",
    "4). Choose parameters for Canny and apply to get edges image.    \n",
    "5). Mask image to get only the region of interest.   \n",
    "6). Choose the Hough transform parameters and apply Hough transform on the edge detected image.   \n",
    "7). Draw lines by extrapolating the lines obtained from Hough transform.  \n",
    "8). Again apply the masking function to get lane markings only in the desired region.  \n",
    "9). Superimpose the line image with the original image to get the required lane markings. \n",
    "\n",
    "I modified the draw_line() function to make different groups of lines obtained using Hough transform with positive and negative slopes. Also, the equation of line is not same in image coordinates. Calculations are done by keeping it in consideration. In image coordinates, the equation of line   $ y = mx +c $  changes to  $ y = -mx -c $ \n",
    "\n",
    "\n",
    "### 2. Potential shortcomings\n",
    "\n",
    "One of the shortcoming of this pipeline might be when we come across a curved road. As we have written program to detect straight lines, it will fail to detect curved lane markings at turns or curves.\n",
    "Another shortcoming might be when there is shadow of something(say, tree) on the road. Shadow may result in gradient in the image, so canny edge detection may misfunction in that case.\n",
    "\n",
    "### 3. Possible improvements to the pipeline\n",
    "\n",
    "A possible improvement would be not to hardcode the mask vertices instead they should be decided at run time. Also parameters tuning in Canny and Hough transfrom should not be manual either.\n"
   ]
  }
 ],
 "metadata": {
  "kernelspec": {
   "display_name": "Python [default]",
   "language": "python",
   "name": "python3"
  },
  "language_info": {
   "codemirror_mode": {
    "name": "ipython",
    "version": 3
   },
   "file_extension": ".py",
   "mimetype": "text/x-python",
   "name": "python",
   "nbconvert_exporter": "python",
   "pygments_lexer": "ipython3",
   "version": "3.6.2"
  }
 },
 "nbformat": 4,
 "nbformat_minor": 2
}
